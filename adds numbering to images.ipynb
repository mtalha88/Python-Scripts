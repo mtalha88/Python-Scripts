{
 "cells": [
  {
   "cell_type": "code",
   "execution_count": 1,
   "id": "2f7311bf",
   "metadata": {},
   "outputs": [
    {
     "name": "stdout",
     "output_type": "stream",
     "text": [
      "Collecting Pillow\n",
      "  Downloading Pillow-9.4.0-cp311-cp311-win_amd64.whl (2.5 MB)\n",
      "     ---------------------------------------- 2.5/2.5 MB 1.7 MB/s eta 0:00:00\n",
      "Installing collected packages: Pillow\n",
      "Successfully installed Pillow-9.4.0\n"
     ]
    }
   ],
   "source": [
    "!pip install Pillow"
   ]
  },
  {
   "cell_type": "code",
   "execution_count": 26,
   "id": "d027ec85",
   "metadata": {},
   "outputs": [],
   "source": [
    "from PIL import Image, ImageDraw, ImageFont\n",
    "import os\n",
    "\n",
    "input_folder = 'D:/Desktop/projects-coding/scripts/input'\n",
    "output_folder = 'D:/Desktop/projects-coding/scripts/output'\n",
    "\n",
    "# Iterate through all files in input folder\n",
    "for filename in os.listdir(input_folder):\n",
    "    \n",
    "    # Open image\n",
    "    im = Image.open(os.path.join(input_folder, filename))\n",
    "    \n",
    "    # Get the file number (remove \"im_\" prefix and \".jpg\" suffix)\n",
    "    file_number = filename[3:-4]\n",
    "    \n",
    "    # Create a new image with a transparent layer (RGBA)\n",
    "    txt = Image.new('RGBA', im.size, (255,255,255,0))\n",
    "\n",
    "    # Get a drawing context\n",
    "    d = ImageDraw.Draw(txt)\n",
    "\n",
    "    # Choose a font\n",
    "    font = ImageFont.truetype(\"arial.ttf\", 20)\n",
    "    \n",
    "    # Add text to top-left corner\n",
    "    d.text((0,0), file_number, font=font, fill=(255,0,0,255))\n",
    "    \n",
    "    # convert both images to RGBA mode\n",
    "    im = im.convert(\"RGBA\")\n",
    "    txt = txt.convert(\"RGBA\")\n",
    "    \n",
    "    # Paste the text layer onto the original image\n",
    "    im = Image.alpha_composite(im, txt)\n",
    "    \n",
    "    # Save the image as PNG\n",
    "    im.save(os.path.join(output_folder, filename), \"PNG\")\n",
    "\n"
   ]
  },
  {
   "cell_type": "code",
   "execution_count": null,
   "id": "b05b3ab3",
   "metadata": {},
   "outputs": [],
   "source": []
  },
  {
   "cell_type": "code",
   "execution_count": null,
   "id": "ed745aef",
   "metadata": {},
   "outputs": [],
   "source": []
  }
 ],
 "metadata": {
  "kernelspec": {
   "display_name": "Python 3 (ipykernel)",
   "language": "python",
   "name": "python3"
  },
  "language_info": {
   "codemirror_mode": {
    "name": "ipython",
    "version": 3
   },
   "file_extension": ".py",
   "mimetype": "text/x-python",
   "name": "python",
   "nbconvert_exporter": "python",
   "pygments_lexer": "ipython3",
   "version": "3.11.1"
  }
 },
 "nbformat": 4,
 "nbformat_minor": 5
}
